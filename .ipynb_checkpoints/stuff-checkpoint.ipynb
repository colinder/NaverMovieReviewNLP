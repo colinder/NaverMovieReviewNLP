{
 "cells": [
  {
   "cell_type": "code",
   "execution_count": 4,
   "id": "340e47fd",
   "metadata": {},
   "outputs": [
    {
     "data": {
      "text/html": [
       "<div>\n",
       "<style scoped>\n",
       "    .dataframe tbody tr th:only-of-type {\n",
       "        vertical-align: middle;\n",
       "    }\n",
       "\n",
       "    .dataframe tbody tr th {\n",
       "        vertical-align: top;\n",
       "    }\n",
       "\n",
       "    .dataframe thead th {\n",
       "        text-align: right;\n",
       "    }\n",
       "</style>\n",
       "<table border=\"1\" class=\"dataframe\">\n",
       "  <thead>\n",
       "    <tr style=\"text-align: right;\">\n",
       "      <th></th>\n",
       "      <th>A</th>\n",
       "      <th>B</th>\n",
       "      <th>C</th>\n",
       "    </tr>\n",
       "  </thead>\n",
       "  <tbody>\n",
       "    <tr>\n",
       "      <th>0</th>\n",
       "      <td>1</td>\n",
       "      <td>2</td>\n",
       "      <td>3</td>\n",
       "    </tr>\n",
       "    <tr>\n",
       "      <th>1</th>\n",
       "      <td>4</td>\n",
       "      <td>5</td>\n",
       "      <td></td>\n",
       "    </tr>\n",
       "    <tr>\n",
       "      <th>2</th>\n",
       "      <td>7</td>\n",
       "      <td>[]</td>\n",
       "      <td>9</td>\n",
       "    </tr>\n",
       "  </tbody>\n",
       "</table>\n",
       "</div>"
      ],
      "text/plain": [
       "   A   B  C\n",
       "0  1   2  3\n",
       "1  4   5   \n",
       "2  7  []  9"
      ]
     },
     "execution_count": 4,
     "metadata": {},
     "output_type": "execute_result"
    }
   ],
   "source": [
    "import pandas as pd\n",
    "\n",
    "df = pd.DataFrame({\"A\":[1,4,7], \"B\":[2,5,[]], \"C\":[3, \"\",9]})\n",
    "df"
   ]
  },
  {
   "cell_type": "code",
   "execution_count": 5,
   "id": "7cd1a68a",
   "metadata": {},
   "outputs": [
    {
     "data": {
      "text/html": [
       "<div>\n",
       "<style scoped>\n",
       "    .dataframe tbody tr th:only-of-type {\n",
       "        vertical-align: middle;\n",
       "    }\n",
       "\n",
       "    .dataframe tbody tr th {\n",
       "        vertical-align: top;\n",
       "    }\n",
       "\n",
       "    .dataframe thead th {\n",
       "        text-align: right;\n",
       "    }\n",
       "</style>\n",
       "<table border=\"1\" class=\"dataframe\">\n",
       "  <thead>\n",
       "    <tr style=\"text-align: right;\">\n",
       "      <th></th>\n",
       "      <th>A</th>\n",
       "      <th>B</th>\n",
       "    </tr>\n",
       "  </thead>\n",
       "  <tbody>\n",
       "    <tr>\n",
       "      <th>0</th>\n",
       "      <td>1</td>\n",
       "      <td>NaN</td>\n",
       "    </tr>\n",
       "    <tr>\n",
       "      <th>1</th>\n",
       "      <td>2</td>\n",
       "      <td>1</td>\n",
       "    </tr>\n",
       "    <tr>\n",
       "      <th>2</th>\n",
       "      <td>3</td>\n",
       "      <td>2</td>\n",
       "    </tr>\n",
       "    <tr>\n",
       "      <th>3</th>\n",
       "      <td>4</td>\n",
       "      <td>None</td>\n",
       "    </tr>\n",
       "    <tr>\n",
       "      <th>4</th>\n",
       "      <td>5</td>\n",
       "      <td>4</td>\n",
       "    </tr>\n",
       "    <tr>\n",
       "      <th>5</th>\n",
       "      <td>6</td>\n",
       "      <td></td>\n",
       "    </tr>\n",
       "    <tr>\n",
       "      <th>6</th>\n",
       "      <td>7</td>\n",
       "      <td>aa</td>\n",
       "    </tr>\n",
       "    <tr>\n",
       "      <th>7</th>\n",
       "      <td>8</td>\n",
       "      <td>AA</td>\n",
       "    </tr>\n",
       "  </tbody>\n",
       "</table>\n",
       "</div>"
      ],
      "text/plain": [
       "   A        B\n",
       "0  1      NaN\n",
       "1  2        1\n",
       "2  3        2\n",
       "3  4     None\n",
       "4  5        4\n",
       "5  6         \n",
       "6  7       aa\n",
       "7  8  AA     "
      ]
     },
     "execution_count": 5,
     "metadata": {},
     "output_type": "execute_result"
    }
   ],
   "source": [
    "import numpy as np\n",
    "import pandas as pd\n",
    "\n",
    "a = pd.DataFrame({\"A\":[1,2,3,4,5,6,7,8],\"B\": [np.nan , 1,2, None, 4, \"\", \"  aa\", \"AA     \"]})\n",
    "a\n"
   ]
  },
  {
   "cell_type": "code",
   "execution_count": 2,
   "id": "7530f566",
   "metadata": {},
   "outputs": [
    {
     "data": {
      "text/plain": [
       "A    0\n",
       "B    0\n",
       "C    0\n",
       "dtype: int64"
      ]
     },
     "execution_count": 2,
     "metadata": {},
     "output_type": "execute_result"
    }
   ],
   "source": [
    "df.isnull().sum()"
   ]
  },
  {
   "cell_type": "code",
   "execution_count": 1,
   "id": "33eb3210",
   "metadata": {},
   "outputs": [
    {
     "data": {
      "text/plain": [
       "94"
      ]
     },
     "execution_count": 1,
     "metadata": {},
     "output_type": "execute_result"
    }
   ],
   "source": [
    "ord(\"^\")"
   ]
  },
  {
   "cell_type": "code",
   "execution_count": 13,
   "id": "f2fe94b4",
   "metadata": {},
   "outputs": [
    {
     "data": {
      "text/html": [
       "<div>\n",
       "<style scoped>\n",
       "    .dataframe tbody tr th:only-of-type {\n",
       "        vertical-align: middle;\n",
       "    }\n",
       "\n",
       "    .dataframe tbody tr th {\n",
       "        vertical-align: top;\n",
       "    }\n",
       "\n",
       "    .dataframe thead th {\n",
       "        text-align: right;\n",
       "    }\n",
       "</style>\n",
       "<table border=\"1\" class=\"dataframe\">\n",
       "  <thead>\n",
       "    <tr style=\"text-align: right;\">\n",
       "      <th></th>\n",
       "      <th>A</th>\n",
       "    </tr>\n",
       "  </thead>\n",
       "  <tbody>\n",
       "    <tr>\n",
       "      <th>0</th>\n",
       "      <td>야 ㄹㅇ 이거 완전 sdfsdf !@#$%^^^^^^^^^()&amp;* ✨ 이런거 저런거...</td>\n",
       "    </tr>\n",
       "  </tbody>\n",
       "</table>\n",
       "</div>"
      ],
      "text/plain": [
       "                                                   A\n",
       "0  야 ㄹㅇ 이거 완전 sdfsdf !@#$%^^^^^^^^^()&* ✨ 이런거 저런거..."
      ]
     },
     "execution_count": 13,
     "metadata": {},
     "output_type": "execute_result"
    }
   ],
   "source": [
    "import pandas as pd\n",
    "t = {\"A\": ['야 ㄹㅇ 이거 완전 sdfsdf !@#$%^^^^^^^^^()&* ✨ 이런거 저런거 다 걸러야 하는데ㅋ ㅎ ㅉ ㅡㅡ ㅜㅜ']}\n",
    "# t = {\"A\": ['재미있게 봤습니다 매^^력적인 행복^^이네요  ㅎㅎㅎ']}\n",
    "\n",
    "text = pd.DataFrame(t)\n",
    "text"
   ]
  },
  {
   "cell_type": "code",
   "execution_count": 14,
   "id": "83594b45",
   "metadata": {},
   "outputs": [
    {
     "data": {
      "text/plain": [
       "0    야 ㄹㅇ 이거 완전 sdfsdf !@#$%()&* ✨ 이런거 저런거 다 걸러야 하는...\n",
       "Name: A, dtype: object"
      ]
     },
     "execution_count": 14,
     "metadata": {},
     "output_type": "execute_result"
    }
   ],
   "source": [
    "a = text[\"A\"].str.replace(\"^\", \"\", regex=False)\n",
    "a"
   ]
  },
  {
   "cell_type": "code",
   "execution_count": 7,
   "id": "e5f537f3",
   "metadata": {},
   "outputs": [
    {
     "name": "stdout",
     "output_type": "stream",
     "text": [
      "총 데이터 개수:  200000\n",
      "훈련 데이터 개수: 150000\n",
      "검증 데이터 개수: 50000\n",
      "<class 'pandas.core.frame.DataFrame'>\n"
     ]
    }
   ],
   "source": [
    "import urllib.request\n",
    "import pandas as pd\n",
    "\n",
    "## data 가져오기\n",
    "urllib.request.urlretrieve(\"https://raw.githubusercontent.com/e9t/nsmc/master/ratings.txt\", filename=\"total_data.txt\")\n",
    "urllib.request.urlretrieve(\"https://raw.githubusercontent.com/e9t/nsmc/master/ratings_train.txt\", filename=\"ratings_train.txt\")\n",
    "urllib.request.urlretrieve(\"https://raw.githubusercontent.com/e9t/nsmc/master/ratings_test.txt\", filename=\"ratings_test.txt\")\n",
    "\n",
    "total_data = pd.read_table(\"total_data.txt\")            # read_table시 자동으로 strip() 적용\n",
    "train_data = pd.read_table(\"ratings_train.txt\")\n",
    "test_data = pd.read_table(\"ratings_test.txt\")\n",
    "\n",
    "print(\"총 데이터 개수: \", len(total_data))\n",
    "print(\"훈련 데이터 개수:\", len(train_data))\n",
    "print(\"검증 데이터 개수:\", len(test_data))\n",
    "\n",
    "print(type(total_data))"
   ]
  },
  {
   "cell_type": "code",
   "execution_count": 10,
   "id": "a2a80e5e",
   "metadata": {},
   "outputs": [
    {
     "name": "stdout",
     "output_type": "stream",
     "text": [
      "id          2172111\n",
      "document        NaN\n",
      "label             1\n",
      "Name: 25857, dtype: object\n",
      "id                        7385251\n",
      "document    오유인들아 평점조작 쫌 그만 해달랑꼐?\n",
      "label                           0\n",
      "Name: 32726, dtype: object\n",
      "id            5883270\n",
      "document    ..정말 쩔어요.\n",
      "label               1\n",
      "Name: 33747, dtype: object\n",
      "id                 9978360\n",
      "document    OST 존나 죠흠...ㅜㅜ\n",
      "label                    1\n",
      "Name: 39942, dtype: object\n",
      "id          3989710\n",
      "document      쩌는 액션\n",
      "label             1\n",
      "Name: 47120, dtype: object\n",
      "id          7466424\n",
      "document     존나 똥이다\n",
      "label             0\n",
      "Name: 54911, dtype: object\n",
      "id          6369843\n",
      "document        NaN\n",
      "label             1\n",
      "Name: 55737, dtype: object\n",
      "id             2930999\n",
      "document    또봐도 재미쎀ㅋㅋㅋ\n",
      "label                1\n",
      "Name: 76160, dtype: object\n",
      "id          1034280\n",
      "document        NaN\n",
      "label             0\n",
      "Name: 110014, dtype: object\n",
      "id          5942978\n",
      "document        NaN\n",
      "label             0\n",
      "Name: 126782, dtype: object\n",
      "id                 9801025\n",
      "document    꾸르잼ㅋㅋㅋㅋ재밌어욬ㅋㅋㅋ\n",
      "label                    1\n",
      "Name: 132773, dtype: object\n",
      "id          1034283\n",
      "document        NaN\n",
      "label             0\n",
      "Name: 140721, dtype: object\n"
     ]
    }
   ],
   "source": [
    "a = [25857,\n",
    " 32726,\n",
    " 33747,\n",
    " 39942,\n",
    " 47120,\n",
    " 54911,\n",
    " 55737,\n",
    " 76160,\n",
    " 110014,\n",
    " 126782,\n",
    " 132773,\n",
    " 140721]\n",
    "for i in a:\n",
    "    print(train_data.loc[i])"
   ]
  },
  {
   "cell_type": "code",
   "execution_count": 13,
   "id": "d0b2da2e",
   "metadata": {},
   "outputs": [
    {
     "data": {
      "text/plain": [
       "'또 봐도 재미쎀ㅋㅋㅋ'"
      ]
     },
     "execution_count": 13,
     "metadata": {},
     "output_type": "execute_result"
    }
   ],
   "source": [
    "from hanspell import spell_checker\n",
    "\n",
    "correction_document = []\n",
    "\n",
    "cor_doc = spell_checker.check('또봐도 재미쎀ㅋㅋㅋ')\n",
    "cor_doc.checked\n",
    "\n"
   ]
  },
  {
   "cell_type": "code",
   "execution_count": null,
   "id": "f7dc9a61",
   "metadata": {},
   "outputs": [],
   "source": [
    "import os.path\n",
    "import pickle\n",
    "file = 'cor_train_data.txt'\n",
    "\n",
    "if os.path.isfile(file):\n",
    "    print('파일이 존재합니다.')\n",
    "    print('파일을 불러옵니다.')\n",
    "    with open('cor_train_data.txt', 'rb') as f:\n",
    "        cor_train_data = pickle.load(f)\n",
    "        train_data['document'] = pd.DataFrame(cor_train_data)\n",
    "        train_data.to_csv(\"cor_train_data.csv\", )\n",
    "        print(\"파일을 불러왔습니다.\")\n",
    "else:\n",
    "    with open(\"cor_train_data.txt\", 'wb') as F:\n",
    "        pickle.dump(correction_document, F, pickle.HIGHEST_PROTOCOL)\n",
    "        print(\"파일을 생성하였습니다.\")"
   ]
  },
  {
   "cell_type": "code",
   "execution_count": null,
   "id": "9e9894da",
   "metadata": {},
   "outputs": [],
   "source": []
  }
 ],
 "metadata": {
  "kernelspec": {
   "display_name": "Python 3",
   "language": "python",
   "name": "python3"
  },
  "language_info": {
   "codemirror_mode": {
    "name": "ipython",
    "version": 3
   },
   "file_extension": ".py",
   "mimetype": "text/x-python",
   "name": "python",
   "nbconvert_exporter": "python",
   "pygments_lexer": "ipython3",
   "version": "3.8.10"
  }
 },
 "nbformat": 4,
 "nbformat_minor": 5
}
