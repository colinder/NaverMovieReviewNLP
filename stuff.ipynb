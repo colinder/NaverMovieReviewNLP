{
 "cells": [
  {
   "cell_type": "code",
   "execution_count": 5,
   "id": "6d52e87d",
   "metadata": {},
   "outputs": [],
   "source": [
    "import urllib.request\n",
    "import pandas as pd\n",
    "\n",
    "## data 가져오기\n",
    "urllib.request.urlretrieve(\"https://raw.githubusercontent.com/e9t/nsmc/master/ratings.txt\", filename=\"total_data.txt\")\n",
    "urllib.request.urlretrieve(\"https://raw.githubusercontent.com/e9t/nsmc/master/ratings_train.txt\", filename=\"train_data.txt\")\n",
    "urllib.request.urlretrieve(\"https://raw.githubusercontent.com/e9t/nsmc/master/ratings_test.txt\", filename=\"test_data.txt\")\n",
    "\n",
    "total_data = pd.read_table(\"total_data.txt\")            # read_table시 자동으로 strip() 적용\n",
    "train_data = pd.read_table(\"train_data.txt\")\n",
    "test_data = pd.read_table(\"test_data.txt\")"
   ]
  },
  {
   "cell_type": "code",
   "execution_count": 6,
   "id": "dd1dab5c",
   "metadata": {},
   "outputs": [],
   "source": [
    "import pandas as pd\n",
    "\n",
    "# 1. 정규표현식 적용\n",
    "train_data[\"document\"] = train_data['document'].str.replace(\"[^0-9^ㄱ-ㅎㅏ-ㅣ가-힣 ]\",\"\", regex=True).str.replace(\"[ㄱ-ㅎㅏ-ㅣ]\", \"\", regex=True).str.replace(\"^\", \"\", regex=False).str.replace(\" \", \"\", regex=False)"
   ]
  },
  {
   "cell_type": "code",
   "execution_count": 11,
   "id": "8f61bbcd",
   "metadata": {},
   "outputs": [
    {
     "data": {
      "text/html": [
       "<div>\n",
       "<style scoped>\n",
       "    .dataframe tbody tr th:only-of-type {\n",
       "        vertical-align: middle;\n",
       "    }\n",
       "\n",
       "    .dataframe tbody tr th {\n",
       "        vertical-align: top;\n",
       "    }\n",
       "\n",
       "    .dataframe thead th {\n",
       "        text-align: right;\n",
       "    }\n",
       "</style>\n",
       "<table border=\"1\" class=\"dataframe\">\n",
       "  <thead>\n",
       "    <tr style=\"text-align: right;\">\n",
       "      <th></th>\n",
       "      <th>id</th>\n",
       "      <th>document</th>\n",
       "      <th>label</th>\n",
       "    </tr>\n",
       "  </thead>\n",
       "  <tbody>\n",
       "    <tr>\n",
       "      <th>0</th>\n",
       "      <td>9976970</td>\n",
       "      <td>아더빙진짜짜증나네요목소리</td>\n",
       "      <td>0</td>\n",
       "    </tr>\n",
       "    <tr>\n",
       "      <th>1</th>\n",
       "      <td>3819312</td>\n",
       "      <td>흠포스터보고초딩영화줄오버연기조차가볍지않구나</td>\n",
       "      <td>1</td>\n",
       "    </tr>\n",
       "    <tr>\n",
       "      <th>2</th>\n",
       "      <td>10265843</td>\n",
       "      <td>너무재밓었다그래서보는것을추천한다</td>\n",
       "      <td>0</td>\n",
       "    </tr>\n",
       "    <tr>\n",
       "      <th>3</th>\n",
       "      <td>9045019</td>\n",
       "      <td>교도소이야기구먼솔직히재미는없다평점조정</td>\n",
       "      <td>0</td>\n",
       "    </tr>\n",
       "    <tr>\n",
       "      <th>4</th>\n",
       "      <td>6483659</td>\n",
       "      <td>사이몬페그의익살스런연기가돋보였던영화스파이더맨에서늙어보이기만했던커스틴던스트가너무나도이...</td>\n",
       "      <td>1</td>\n",
       "    </tr>\n",
       "    <tr>\n",
       "      <th>...</th>\n",
       "      <td>...</td>\n",
       "      <td>...</td>\n",
       "      <td>...</td>\n",
       "    </tr>\n",
       "    <tr>\n",
       "      <th>149995</th>\n",
       "      <td>6222902</td>\n",
       "      <td>인간이문제지소는뭔죄인가</td>\n",
       "      <td>0</td>\n",
       "    </tr>\n",
       "    <tr>\n",
       "      <th>149996</th>\n",
       "      <td>8549745</td>\n",
       "      <td>평점이너무낮아서</td>\n",
       "      <td>1</td>\n",
       "    </tr>\n",
       "    <tr>\n",
       "      <th>149997</th>\n",
       "      <td>9311800</td>\n",
       "      <td>이게뭐요한국인은거들먹거리고필리핀혼혈은착하다</td>\n",
       "      <td>0</td>\n",
       "    </tr>\n",
       "    <tr>\n",
       "      <th>149998</th>\n",
       "      <td>2376369</td>\n",
       "      <td>청춘영화의최고봉방황과우울했던날들의자화상</td>\n",
       "      <td>1</td>\n",
       "    </tr>\n",
       "    <tr>\n",
       "      <th>149999</th>\n",
       "      <td>9619869</td>\n",
       "      <td>한국영화최초로수간하는내용이담긴영화</td>\n",
       "      <td>0</td>\n",
       "    </tr>\n",
       "  </tbody>\n",
       "</table>\n",
       "<p>150000 rows × 3 columns</p>\n",
       "</div>"
      ],
      "text/plain": [
       "              id                                           document  label\n",
       "0        9976970                                      아더빙진짜짜증나네요목소리      0\n",
       "1        3819312                            흠포스터보고초딩영화줄오버연기조차가볍지않구나      1\n",
       "2       10265843                                  너무재밓었다그래서보는것을추천한다      0\n",
       "3        9045019                               교도소이야기구먼솔직히재미는없다평점조정      0\n",
       "4        6483659  사이몬페그의익살스런연기가돋보였던영화스파이더맨에서늙어보이기만했던커스틴던스트가너무나도이...      1\n",
       "...          ...                                                ...    ...\n",
       "149995   6222902                                       인간이문제지소는뭔죄인가      0\n",
       "149996   8549745                                           평점이너무낮아서      1\n",
       "149997   9311800                            이게뭐요한국인은거들먹거리고필리핀혼혈은착하다      0\n",
       "149998   2376369                              청춘영화의최고봉방황과우울했던날들의자화상      1\n",
       "149999   9619869                                 한국영화최초로수간하는내용이담긴영화      0\n",
       "\n",
       "[150000 rows x 3 columns]"
      ]
     },
     "execution_count": 11,
     "metadata": {},
     "output_type": "execute_result"
    }
   ],
   "source": [
    "train_data"
   ]
  },
  {
   "cell_type": "code",
   "execution_count": 13,
   "id": "ac38c199",
   "metadata": {},
   "outputs": [
    {
     "name": "stdout",
     "output_type": "stream",
     "text": [
      "아더 Noun\n",
      "빙 Noun\n",
      "진짜 Noun\n",
      "짜증나다 Adjective\n",
      "목소리 Noun\n",
      "['아더', '빙', '진짜', '짜증나다', '목소리']\n",
      "[]\n",
      "흠 Noun\n",
      "포스터 Noun\n",
      "보고 Noun\n",
      "초딩 Noun\n",
      "영화 Noun\n",
      "줄 Noun\n",
      "오버 Noun\n",
      "연기 Noun\n",
      "조차 Josa\n",
      "가볍다 Adjective\n",
      "않다 Verb\n",
      "['아더', '빙', '진짜', '짜증나다', '목소리', '흠', '포스터', '보고', '초딩', '영화', '줄', '오버', '연기', '가볍다', '않다']\n",
      "['조차']\n",
      "너 Modifier\n",
      "무재 Noun\n",
      "밓었 Noun\n",
      "다그 Noun\n",
      "래서 Noun\n",
      "보다 Verb\n",
      "추천 Noun\n",
      "한 Josa\n",
      "다 Adverb\n",
      "['아더', '빙', '진짜', '짜증나다', '목소리', '흠', '포스터', '보고', '초딩', '영화', '줄', '오버', '연기', '가볍다', '않다', '무재', '밓었', '다그', '래서', '보다', '추천']\n",
      "['조차', '너', '한', '다']\n",
      "교도소 Noun\n",
      "이야기 Noun\n",
      "구먼 Noun\n",
      "솔직하다 Adjective\n",
      "재미 Noun\n",
      "는 Josa\n",
      "없다 Adjective\n",
      "평점 Noun\n",
      "조정 Noun\n",
      "['아더', '빙', '진짜', '짜증나다', '목소리', '흠', '포스터', '보고', '초딩', '영화', '줄', '오버', '연기', '가볍다', '않다', '무재', '밓었', '다그', '래서', '보다', '추천', '교도소', '이야기', '구먼', '솔직하다', '재미', '없다', '평점', '조정']\n",
      "['조차', '너', '한', '다', '는']\n",
      "사이 Modifier\n",
      "몬페 Noun\n",
      "그 Determiner\n",
      "의 Noun\n",
      "익살스럽다 Adjective\n",
      "연기 Noun\n",
      "가 Josa\n",
      "돋보이다 Verb\n",
      "영화 Noun\n",
      "스파이더맨 Noun\n",
      "에서 Josa\n",
      "늙다 Verb\n",
      "보이다 Verb\n",
      "하다 Verb\n",
      "크다 Verb\n",
      "스틴던스트 Noun\n",
      "가 Josa\n",
      "너무나도 Adverb\n",
      "이쁘다 Adjective\n",
      "보이다 Verb\n",
      "['아더', '빙', '진짜', '짜증나다', '목소리', '흠', '포스터', '보고', '초딩', '영화', '줄', '오버', '연기', '가볍다', '않다', '무재', '밓었', '다그', '래서', '보다', '추천', '교도소', '이야기', '구먼', '솔직하다', '재미', '없다', '평점', '조정', '몬페', '의', '익살스럽다', '연기', '돋보이다', '영화', '스파이더맨', '늙다', '보이다', '하다', '크다', '스틴던스트', '이쁘다', '보이다']\n",
      "['조차', '너', '한', '다', '는', '사이', '그', '가', '에서', '가', '너무나도']\n"
     ]
    }
   ],
   "source": [
    "import jpype\n",
    "\n",
    "from konlpy.tag import Okt\n",
    "\n",
    "stopword = []\n",
    "stopCate = ['Noun','Verb', 'Adjective']\n",
    "Okt = Okt()\n",
    "\n",
    "dataFrame = []\n",
    "for i in range(5):\n",
    "    a = Okt.pos(train_data[\"document\"][i], norm=True, stem=True)   # norm: 정규화 처리 / stem: 각 단어에서 어간을 추출\n",
    "    for text, PoS in a:\n",
    "        print(text, PoS)\n",
    "        if PoS in stopCate:\n",
    "            dataFrame.append(text)\n",
    "        else:\n",
    "            stopword.append(text)\n",
    "        \n",
    "    print(dataFrame)\n",
    "    print(stopword)\n"
   ]
  },
  {
   "cell_type": "code",
   "execution_count": null,
   "id": "c0c708a5",
   "metadata": {},
   "outputs": [],
   "source": []
  },
  {
   "cell_type": "code",
   "execution_count": 4,
   "id": "340e47fd",
   "metadata": {},
   "outputs": [
    {
     "data": {
      "text/html": [
       "<div>\n",
       "<style scoped>\n",
       "    .dataframe tbody tr th:only-of-type {\n",
       "        vertical-align: middle;\n",
       "    }\n",
       "\n",
       "    .dataframe tbody tr th {\n",
       "        vertical-align: top;\n",
       "    }\n",
       "\n",
       "    .dataframe thead th {\n",
       "        text-align: right;\n",
       "    }\n",
       "</style>\n",
       "<table border=\"1\" class=\"dataframe\">\n",
       "  <thead>\n",
       "    <tr style=\"text-align: right;\">\n",
       "      <th></th>\n",
       "      <th>A</th>\n",
       "      <th>B</th>\n",
       "      <th>C</th>\n",
       "    </tr>\n",
       "  </thead>\n",
       "  <tbody>\n",
       "    <tr>\n",
       "      <th>0</th>\n",
       "      <td>1</td>\n",
       "      <td>2</td>\n",
       "      <td>3</td>\n",
       "    </tr>\n",
       "    <tr>\n",
       "      <th>1</th>\n",
       "      <td>4</td>\n",
       "      <td>5</td>\n",
       "      <td></td>\n",
       "    </tr>\n",
       "    <tr>\n",
       "      <th>2</th>\n",
       "      <td>7</td>\n",
       "      <td>[]</td>\n",
       "      <td>9</td>\n",
       "    </tr>\n",
       "  </tbody>\n",
       "</table>\n",
       "</div>"
      ],
      "text/plain": [
       "   A   B  C\n",
       "0  1   2  3\n",
       "1  4   5   \n",
       "2  7  []  9"
      ]
     },
     "execution_count": 4,
     "metadata": {},
     "output_type": "execute_result"
    }
   ],
   "source": [
    "import pandas as pd\n",
    "\n",
    "df = pd.DataFrame({\"A\":[1,4,7], \"B\":[2,5,[]], \"C\":[3, \"\",9]})\n",
    "df"
   ]
  },
  {
   "cell_type": "code",
   "execution_count": 5,
   "id": "7cd1a68a",
   "metadata": {},
   "outputs": [
    {
     "data": {
      "text/html": [
       "<div>\n",
       "<style scoped>\n",
       "    .dataframe tbody tr th:only-of-type {\n",
       "        vertical-align: middle;\n",
       "    }\n",
       "\n",
       "    .dataframe tbody tr th {\n",
       "        vertical-align: top;\n",
       "    }\n",
       "\n",
       "    .dataframe thead th {\n",
       "        text-align: right;\n",
       "    }\n",
       "</style>\n",
       "<table border=\"1\" class=\"dataframe\">\n",
       "  <thead>\n",
       "    <tr style=\"text-align: right;\">\n",
       "      <th></th>\n",
       "      <th>A</th>\n",
       "      <th>B</th>\n",
       "    </tr>\n",
       "  </thead>\n",
       "  <tbody>\n",
       "    <tr>\n",
       "      <th>0</th>\n",
       "      <td>1</td>\n",
       "      <td>NaN</td>\n",
       "    </tr>\n",
       "    <tr>\n",
       "      <th>1</th>\n",
       "      <td>2</td>\n",
       "      <td>1</td>\n",
       "    </tr>\n",
       "    <tr>\n",
       "      <th>2</th>\n",
       "      <td>3</td>\n",
       "      <td>2</td>\n",
       "    </tr>\n",
       "    <tr>\n",
       "      <th>3</th>\n",
       "      <td>4</td>\n",
       "      <td>None</td>\n",
       "    </tr>\n",
       "    <tr>\n",
       "      <th>4</th>\n",
       "      <td>5</td>\n",
       "      <td>4</td>\n",
       "    </tr>\n",
       "    <tr>\n",
       "      <th>5</th>\n",
       "      <td>6</td>\n",
       "      <td></td>\n",
       "    </tr>\n",
       "    <tr>\n",
       "      <th>6</th>\n",
       "      <td>7</td>\n",
       "      <td>aa</td>\n",
       "    </tr>\n",
       "    <tr>\n",
       "      <th>7</th>\n",
       "      <td>8</td>\n",
       "      <td>AA</td>\n",
       "    </tr>\n",
       "  </tbody>\n",
       "</table>\n",
       "</div>"
      ],
      "text/plain": [
       "   A        B\n",
       "0  1      NaN\n",
       "1  2        1\n",
       "2  3        2\n",
       "3  4     None\n",
       "4  5        4\n",
       "5  6         \n",
       "6  7       aa\n",
       "7  8  AA     "
      ]
     },
     "execution_count": 5,
     "metadata": {},
     "output_type": "execute_result"
    }
   ],
   "source": [
    "import numpy as np\n",
    "import pandas as pd\n",
    "\n",
    "a = pd.DataFrame({\"A\":[1,2,3,4,5,6,7,8],\"B\": [np.nan , 1,2, None, 4, \"\", \"  aa\", \"AA     \"]})\n",
    "a\n"
   ]
  },
  {
   "cell_type": "code",
   "execution_count": 2,
   "id": "7530f566",
   "metadata": {},
   "outputs": [
    {
     "data": {
      "text/plain": [
       "A    0\n",
       "B    0\n",
       "C    0\n",
       "dtype: int64"
      ]
     },
     "execution_count": 2,
     "metadata": {},
     "output_type": "execute_result"
    }
   ],
   "source": [
    "df.isnull().sum()"
   ]
  },
  {
   "cell_type": "code",
   "execution_count": 1,
   "id": "33eb3210",
   "metadata": {},
   "outputs": [
    {
     "data": {
      "text/plain": [
       "94"
      ]
     },
     "execution_count": 1,
     "metadata": {},
     "output_type": "execute_result"
    }
   ],
   "source": [
    "ord(\"^\")"
   ]
  },
  {
   "cell_type": "code",
   "execution_count": 13,
   "id": "f2fe94b4",
   "metadata": {},
   "outputs": [
    {
     "data": {
      "text/html": [
       "<div>\n",
       "<style scoped>\n",
       "    .dataframe tbody tr th:only-of-type {\n",
       "        vertical-align: middle;\n",
       "    }\n",
       "\n",
       "    .dataframe tbody tr th {\n",
       "        vertical-align: top;\n",
       "    }\n",
       "\n",
       "    .dataframe thead th {\n",
       "        text-align: right;\n",
       "    }\n",
       "</style>\n",
       "<table border=\"1\" class=\"dataframe\">\n",
       "  <thead>\n",
       "    <tr style=\"text-align: right;\">\n",
       "      <th></th>\n",
       "      <th>A</th>\n",
       "    </tr>\n",
       "  </thead>\n",
       "  <tbody>\n",
       "    <tr>\n",
       "      <th>0</th>\n",
       "      <td>야 ㄹㅇ 이거 완전 sdfsdf !@#$%^^^^^^^^^()&amp;* ✨ 이런거 저런거...</td>\n",
       "    </tr>\n",
       "  </tbody>\n",
       "</table>\n",
       "</div>"
      ],
      "text/plain": [
       "                                                   A\n",
       "0  야 ㄹㅇ 이거 완전 sdfsdf !@#$%^^^^^^^^^()&* ✨ 이런거 저런거..."
      ]
     },
     "execution_count": 13,
     "metadata": {},
     "output_type": "execute_result"
    }
   ],
   "source": [
    "import pandas as pd\n",
    "t = {\"A\": ['야 ㄹㅇ 이거 완전 sdfsdf !@#$%^^^^^^^^^()&* ✨ 이런거 저런거 다 걸러야 하는데ㅋ ㅎ ㅉ ㅡㅡ ㅜㅜ']}\n",
    "# t = {\"A\": ['재미있게 봤습니다 매^^력적인 행복^^이네요  ㅎㅎㅎ']}\n",
    "\n",
    "text = pd.DataFrame(t)\n",
    "text"
   ]
  },
  {
   "cell_type": "code",
   "execution_count": 14,
   "id": "83594b45",
   "metadata": {},
   "outputs": [
    {
     "data": {
      "text/plain": [
       "0    야 ㄹㅇ 이거 완전 sdfsdf !@#$%()&* ✨ 이런거 저런거 다 걸러야 하는...\n",
       "Name: A, dtype: object"
      ]
     },
     "execution_count": 14,
     "metadata": {},
     "output_type": "execute_result"
    }
   ],
   "source": [
    "a = text[\"A\"].str.replace(\"^\", \"\", regex=False)\n",
    "a"
   ]
  },
  {
   "cell_type": "code",
   "execution_count": 1,
   "id": "e5f537f3",
   "metadata": {},
   "outputs": [
    {
     "name": "stdout",
     "output_type": "stream",
     "text": [
      "총 데이터 개수:  200000\n",
      "훈련 데이터 개수: 150000\n",
      "검증 데이터 개수: 50000\n",
      "<class 'pandas.core.frame.DataFrame'>\n"
     ]
    }
   ],
   "source": [
    "import urllib.request\n",
    "import pandas as pd\n",
    "\n",
    "## data 가져오기\n",
    "urllib.request.urlretrieve(\"https://raw.githubusercontent.com/e9t/nsmc/master/ratings.txt\", filename=\"total_data.txt\")\n",
    "urllib.request.urlretrieve(\"https://raw.githubusercontent.com/e9t/nsmc/master/ratings_train.txt\", filename=\"ratings_train.txt\")\n",
    "urllib.request.urlretrieve(\"https://raw.githubusercontent.com/e9t/nsmc/master/ratings_test.txt\", filename=\"ratings_test.txt\")\n",
    "\n",
    "total_data = pd.read_table(\"total_data.txt\")            # read_table시 자동으로 strip() 적용\n",
    "train_data = pd.read_table(\"ratings_train.txt\")\n",
    "test_data = pd.read_table(\"ratings_test.txt\")\n",
    "\n",
    "print(\"총 데이터 개수: \", len(total_data))\n",
    "print(\"훈련 데이터 개수:\", len(train_data))\n",
    "print(\"검증 데이터 개수:\", len(test_data))\n",
    "\n",
    "print(type(total_data))"
   ]
  },
  {
   "cell_type": "code",
   "execution_count": 2,
   "id": "f7dc9a61",
   "metadata": {},
   "outputs": [
    {
     "name": "stdout",
     "output_type": "stream",
     "text": [
      "파일이 존재합니다.\n",
      "파일을 불러옵니다.\n",
      "파일을 불러왔습니다.\n"
     ]
    }
   ],
   "source": [
    "import os.path\n",
    "import pickle\n",
    "file = 'cor_train_data.txt'\n",
    "\n",
    "if os.path.isfile(file):\n",
    "    print('파일이 존재합니다.')\n",
    "    print('파일을 불러옵니다.')\n",
    "    with open('cor_train_data.txt', 'rb') as f:\n",
    "        cor_train_data = pickle.load(f)\n",
    "        train_data['document'] = pd.DataFrame(cor_train_data)\n",
    "        print(\"파일을 불러왔습니다.\")\n",
    "else:\n",
    "    with open(\"cor_train_data.txt\", 'wb') as F:\n",
    "        pickle.dump(correction_document, F, pickle.HIGHEST_PROTOCOL)\n",
    "        print(\"파일을 생성하였습니다.\")"
   ]
  },
  {
   "cell_type": "code",
   "execution_count": 6,
   "id": "9e9894da",
   "metadata": {},
   "outputs": [
    {
     "data": {
      "text/html": [
       "<div>\n",
       "<style scoped>\n",
       "    .dataframe tbody tr th:only-of-type {\n",
       "        vertical-align: middle;\n",
       "    }\n",
       "\n",
       "    .dataframe tbody tr th {\n",
       "        vertical-align: top;\n",
       "    }\n",
       "\n",
       "    .dataframe thead th {\n",
       "        text-align: right;\n",
       "    }\n",
       "</style>\n",
       "<table border=\"1\" class=\"dataframe\">\n",
       "  <thead>\n",
       "    <tr style=\"text-align: right;\">\n",
       "      <th></th>\n",
       "      <th>id</th>\n",
       "      <th>document</th>\n",
       "      <th>label</th>\n",
       "    </tr>\n",
       "  </thead>\n",
       "  <tbody>\n",
       "    <tr>\n",
       "      <th>0</th>\n",
       "      <td>9976970</td>\n",
       "      <td>아 더빙 진짜 짜증 나네요 목소리</td>\n",
       "      <td>0</td>\n",
       "    </tr>\n",
       "    <tr>\n",
       "      <th>1</th>\n",
       "      <td>3819312</td>\n",
       "      <td>흠포스터보고 초등학생영화 줄 오버 연기조차 가볍지 않구나</td>\n",
       "      <td>1</td>\n",
       "    </tr>\n",
       "    <tr>\n",
       "      <th>2</th>\n",
       "      <td>10265843</td>\n",
       "      <td>너무재밓었다그래서보는것을추천한다</td>\n",
       "      <td>0</td>\n",
       "    </tr>\n",
       "    <tr>\n",
       "      <th>3</th>\n",
       "      <td>9045019</td>\n",
       "      <td>교도소 이야기구먼 솔직히 재미는 없다 평점 조정</td>\n",
       "      <td>0</td>\n",
       "    </tr>\n",
       "    <tr>\n",
       "      <th>4</th>\n",
       "      <td>6483659</td>\n",
       "      <td>사이먼 페그의 익살스러운 연기가 돋보였던 영화 스파이더맨에서 늙어 보이기만 했던 커...</td>\n",
       "      <td>1</td>\n",
       "    </tr>\n",
       "  </tbody>\n",
       "</table>\n",
       "</div>"
      ],
      "text/plain": [
       "         id                                           document  label\n",
       "0   9976970                                 아 더빙 진짜 짜증 나네요 목소리      0\n",
       "1   3819312                    흠포스터보고 초등학생영화 줄 오버 연기조차 가볍지 않구나      1\n",
       "2  10265843                                  너무재밓었다그래서보는것을추천한다      0\n",
       "3   9045019                         교도소 이야기구먼 솔직히 재미는 없다 평점 조정      0\n",
       "4   6483659  사이먼 페그의 익살스러운 연기가 돋보였던 영화 스파이더맨에서 늙어 보이기만 했던 커...      1"
      ]
     },
     "execution_count": 6,
     "metadata": {},
     "output_type": "execute_result"
    }
   ],
   "source": [
    "train_data.head()"
   ]
  },
  {
   "cell_type": "code",
   "execution_count": null,
   "id": "57859e30",
   "metadata": {},
   "outputs": [],
   "source": []
  },
  {
   "cell_type": "code",
   "execution_count": 27,
   "id": "5ca533ac",
   "metadata": {
    "scrolled": true
   },
   "outputs": [
    {
     "name": "stdout",
     "output_type": "stream",
     "text": [
      "[responseCode] 200\n",
      "[responBody]\n",
      "{\"result\":0,\"return_object\":{\"doc_id\":\"\",\"DCT\":\"\",\"category\":\"\",\"category_weight\":0.0,\"title\":{\"text\":\"\",\"NE\":\"\"},\"metaInfo\":{},\"paragraphInfo\":[],\"sentence\":[{\"id\":0.0,\"reserve_str\":\"\",\"text\":\"나는재밓었다그래서보는것을추천한다\",\"morp\":[{\"id\":0.0,\"lemma\":\"나\",\"type\":\"NP\",\"position\":0.0,\"weight\":0.0532343},{\"id\":1.0,\"lemma\":\"는\",\"type\":\"JX\",\"position\":3.0,\"weight\":0.0421602},{\"id\":2.0,\"lemma\":\"재밓\",\"type\":\"VV\",\"position\":6.0,\"weight\":0.00549431},{\"id\":3.0,\"lemma\":\"었\",\"type\":\"EP\",\"position\":12.0,\"weight\":0.0328537},{\"id\":4.0,\"lemma\":\"다\",\"type\":\"EF\",\"position\":15.0,\"weight\":0.0327695},{\"id\":5.0,\"lemma\":\"그래서\",\"type\":\"MAJ\",\"position\":18.0,\"weight\":0.0212485},{\"id\":6.0,\"lemma\":\"보\",\"type\":\"VV\",\"position\":27.0,\"weight\":0.0331418},{\"id\":7.0,\"lemma\":\"는\",\"type\":\"ETM\",\"position\":30.0,\"weight\":0.0489763},{\"id\":8.0,\"lemma\":\"것\",\"type\":\"NNB\",\"position\":33.0,\"weight\":0.0430691},{\"id\":9.0,\"lemma\":\"을\",\"type\":\"JKO\",\"position\":36.0,\"weight\":0.0332636},{\"id\":10.0,\"lemma\":\"추천\",\"type\":\"NNG\",\"position\":39.0,\"weight\":0.00807348},{\"id\":11.0,\"lemma\":\"하\",\"type\":\"XSV\",\"position\":45.0,\"weight\":0.0871091},{\"id\":12.0,\"lemma\":\"ㄴ다\",\"type\":\"EF\",\"position\":45.0,\"weight\":0.0734803}],\"WSD\":[],\"word\":[{\"id\":0.0,\"text\":\"나는재밓었다그래서보는것을추천한다\",\"type\":\"\",\"begin\":0.0,\"end\":12.0}],\"NE\":[],\"NE_Link\":[],\"dependency\":[],\"SRL\":[]}],\"entity\":[]}}\n"
     ]
    }
   ],
   "source": [
    "#ETRL(한국전자통신연구원) 형태소 분류기\n",
    "\n",
    "#-*- coding:utf-8 -*-\n",
    "import urllib3\n",
    "import json\n",
    " \n",
    "# 문어\n",
    "# openApiURL = \"http://aiopen.etri.re.kr:8000/WiseNLU\" \n",
    "# 구어\n",
    "openApiURL = \"http://aiopen.etri.re.kr:8000/WiseNLU_spoken\"\n",
    " \n",
    "accessKey = \"bfc021b8-8aba-4bec-929a-96345cd68a38\"\n",
    "\n",
    "# https://aiopen.etri.re.kr/guide_wiseNLU.php#group02\n",
    "analysisCode = \"morp\"\n",
    "\n",
    "# text += \"윤동주(尹東柱, 1917년 12월 30일 ~ 1945년 2월 16일)는 한국의 독립운동가, 시인, 작가이다.\" +\n",
    "#         \"중국 만저우 지방 지린 성 연변 용정에서 출생하여 명동학교에서 수학하였고, 숭실중학교와 연희전문학교를 졸업하였다. 숭실중학교 때 처음 시를 발표하였고, 1939년 연희전문 2학년 재학 중 소년(少年) 지에 시를 발표하며 정식으로 문단에 데뷔했다.\" +\n",
    "#         \"일본 유학 후 도시샤 대학 재학 중 , 1943년 항일운동을 했다는 혐의로 일본 경찰에 체포되어 후쿠오카 형무소(福岡刑務所)에 투옥, 100여 편의 시를 남기고 27세의 나이에 옥중에서 요절하였다. 사인이 일본의 생체실험이라는 견해가 있고 그의 사후 일본군에 의한 마루타, 생체실험설이 제기되었으나 불확실하다. 사후에 그의 시집 《하늘과 바람과 별과 시》가 출간되었다.\" +\n",
    "#         \"일제 강점기 후반의 양심적 지식인으로 인정받았으며, 그의 시는 일제와 조선총독부에 대한 비판과 자아성찰 등을 소재로 하였다. 그의 친구이자 사촌인 송몽규 역시 독립운동에 가담하려다가 체포되어 일제의 생체 실험으로 의문의 죽음을 맞는다. 1990년대 후반 이후 그의 창씨개명 '히라누마'가 알려져 논란이 일기도 했다. 본명 외에 윤동주(尹童柱), 윤주(尹柱)라는 필명도 사용하였다.\";\n",
    "\n",
    "text = \"나는재밓었다그래서보는것을추천한다\"\n",
    " \n",
    "requestJson = {\n",
    "    \"access_key\": accessKey,\n",
    "    \"argument\": {\n",
    "        \"text\": text,\n",
    "        \"analysis_code\": analysisCode\n",
    "    }\n",
    "}\n",
    " \n",
    "http = urllib3.PoolManager()\n",
    "response = http.request(\n",
    "    \"POST\",\n",
    "    openApiURL,\n",
    "    headers={\"Content-Type\": \"application/json; charset=UTF-8\"},\n",
    "    body=json.dumps(requestJson)\n",
    ")\n",
    " \n",
    "print(\"[responseCode] \" + str(response.status))\n",
    "print(\"[responBody]\")\n",
    "print(str(response.data,\"utf-8\"))"
   ]
  },
  {
   "cell_type": "code",
   "execution_count": null,
   "id": "e023eac3",
   "metadata": {},
   "outputs": [],
   "source": [
    "# 데이터 저장 코드\n",
    "\n",
    "import os.path\n",
    "import pickle\n",
    "## train_data 진행\n",
    "file = 'cor_train_data.txt'\n",
    "\n",
    "if os.path.isfile(file):\n",
    "    print(f'{file} 파일이 존재합니다. 불러옵니다.')\n",
    "    with open('cor_train_data.txt', 'rb') as f:\n",
    "        cor_train_data = pickle.load(f)\n",
    "        train_data['document'] = pd.DataFrame(cor_train_data)\n",
    "        print(\"파일을 불러왔습니다.\")\n",
    "else:\n",
    "    with open(\"cor_train_data.txt\", 'wb') as F:\n",
    "        pickle.dump(correction_document, F, pickle.HIGHEST_PROTOCOL)\n",
    "        print(\"파일을 생성하였습니다.\")\n",
    "        \n",
    "        \n",
    "## test_data 진행\n",
    "file = 'cor_test_data.txt'\n",
    "\n",
    "if os.path.isfile(file):\n",
    "    print(f'{file} 파일이 존재합니다. 불러옵니다.')\n",
    "    with open('cor_test_data.txt', 'rb') as f:\n",
    "        cor_test_data = pickle.load(f)\n",
    "        test_data['document'] = pd.DataFrame(cor_test_data)\n",
    "        print(\"파일을 불러왔습니다.\")\n",
    "else:\n",
    "    with open(\"cor_test_data.txt\", 'wb') as F:\n",
    "        pickle.dump(correction_document, F, pickle.HIGHEST_PROTOCOL)\n",
    "        print(\"파일을 생성하였습니다.\")"
   ]
  },
  {
   "cell_type": "code",
   "execution_count": null,
   "id": "e742fcb4",
   "metadata": {},
   "outputs": [],
   "source": [
    "# 데이터 저장 코드 2\n",
    "\n",
    "import os.path\n",
    "import pickle\n",
    "file = 'tagged_train_data.txt'\n",
    "\n",
    "if os.path.isfile(file):\n",
    "    print('파일이 존재합니다. 불러옵니다')\n",
    "    with open('tagged_train_data.txt', 'rb') as f:\n",
    "        tagged_train_data = pickle.load(f)\n",
    "        print(\"불러오기 완료.\")\n",
    "else:\n",
    "    with open(\"tagged_train_data.txt\", 'wb') as F:\n",
    "        pickle.dump(tagged_train_data, F, pickle.HIGHEST_PROTOCOL)\n",
    "        print(\"파일을 생성하였습니다.\")"
   ]
  }
 ],
 "metadata": {
  "kernelspec": {
   "display_name": "Python 3",
   "language": "python",
   "name": "python3"
  },
  "language_info": {
   "codemirror_mode": {
    "name": "ipython",
    "version": 3
   },
   "file_extension": ".py",
   "mimetype": "text/x-python",
   "name": "python",
   "nbconvert_exporter": "python",
   "pygments_lexer": "ipython3",
   "version": "3.8.10"
  }
 },
 "nbformat": 4,
 "nbformat_minor": 5
}
